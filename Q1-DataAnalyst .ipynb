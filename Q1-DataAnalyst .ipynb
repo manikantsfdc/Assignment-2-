{
 "cells": [
  {
   "cell_type": "code",
   "execution_count": 1,
   "metadata": {},
   "outputs": [],
   "source": [
    "# Import all needed Packages\n",
    "import pandas as pd\n",
    "import re\n",
    "from selenium import webdriver \n",
    "# Make an Instance of chrome \n",
    "driver = webdriver.Chrome()\n",
    "# targetted Url\n",
    "url = \"https://www.naukri.com/data-analyst-jobs-in-bangalore\"\n",
    "#Retrieve Data from the URL\n",
    "driver.get(url)\n",
    "#Scrape All elements under class \"Info fleft\"\n",
    "eles = driver.find_elements_by_xpath('//div[@class=\"info fleft\"]')\n",
    "#Make a List for a elements\n",
    "list = []\n",
    "# Clean our data and separate each job\n",
    "for e in eles[:10]:\n",
    "    da = re.findall(\"(.+)\\D\",e.text)\n",
    "    list.append(da)\n",
    "    #Make a dataframe to import all data into\n",
    "df = pd.DataFrame(columns={\"jobs\"})\n",
    "df['jobs'] = list\n",
    "# Save the dataframe to Excel File\n",
    "df.to_csv(\"Data science_Bangalore.csv\")"
   ]
  },
  {
   "cell_type": "code",
   "execution_count": 197,
   "metadata": {},
   "outputs": [],
   "source": []
  },
  {
   "cell_type": "code",
   "execution_count": 198,
   "metadata": {},
   "outputs": [],
   "source": []
  },
  {
   "cell_type": "code",
   "execution_count": 199,
   "metadata": {},
   "outputs": [],
   "source": []
  },
  {
   "cell_type": "code",
   "execution_count": 200,
   "metadata": {},
   "outputs": [],
   "source": []
  },
  {
   "cell_type": "code",
   "execution_count": 201,
   "metadata": {},
   "outputs": [],
   "source": []
  },
  {
   "cell_type": "code",
   "execution_count": 202,
   "metadata": {},
   "outputs": [],
   "source": []
  },
  {
   "cell_type": "code",
   "execution_count": 203,
   "metadata": {},
   "outputs": [],
   "source": []
  },
  {
   "cell_type": "code",
   "execution_count": 204,
   "metadata": {},
   "outputs": [],
   "source": []
  },
  {
   "cell_type": "code",
   "execution_count": 206,
   "metadata": {},
   "outputs": [],
   "source": []
  },
  {
   "cell_type": "code",
   "execution_count": null,
   "metadata": {},
   "outputs": [],
   "source": []
  }
 ],
 "metadata": {
  "kernelspec": {
   "display_name": "Python 3",
   "language": "python",
   "name": "python3"
  },
  "language_info": {
   "codemirror_mode": {
    "name": "ipython",
    "version": 3
   },
   "file_extension": ".py",
   "mimetype": "text/x-python",
   "name": "python",
   "nbconvert_exporter": "python",
   "pygments_lexer": "ipython3",
   "version": "3.7.6"
  }
 },
 "nbformat": 4,
 "nbformat_minor": 4
}
