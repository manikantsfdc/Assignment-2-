{
 "cells": [
  {
   "cell_type": "code",
   "execution_count": 1,
   "metadata": {},
   "outputs": [],
   "source": [
    "# Import all needed Packages\n",
    "import pandas as pd\n",
    "import re\n",
    "from selenium import webdriver \n",
    "from selenium.webdriver.common.keys import Keys\n",
    "# Make an Instance of chrome \n",
    "driver = webdriver.Chrome()\n",
    "# targetted Url\n",
    "url = \"https://www.glassdoor.co.in/Job/data-scientist-jobs-SRCH_KO0,14.htm\"\n",
    "#Retrieve Data from the URL\n",
    "driver.get(url)\n",
    "#Scrape All elements under class \"Info fleft\"\n",
    "eles = driver.find_elements_by_xpath('//div[@class=\"d-flex flex-column pl-sm css-nq3w9f\"]')\n",
    "len(eles)\n",
    "eles[3].text\n",
    "#Make a List for a elements\n",
    "list = []\n",
    "# Clean our data and separate each job\n",
    "for e in eles[:11]:\n",
    "    da = re.findall(\"(.+)\\D\",e.text)\n",
    "    list.append(da)\n",
    "    \n",
    "#Make a dataframe to import all data into\n",
    "df = pd.DataFrame(columns={\"jobs\"})\n",
    "df['jobs'] = list\n",
    "# Save the dataframe to Excel File\n",
    "df.to_csv(\"Q4.csv\")"
   ]
  },
  {
   "cell_type": "code",
   "execution_count": 12,
   "metadata": {},
   "outputs": [],
   "source": []
  },
  {
   "cell_type": "code",
   "execution_count": 13,
   "metadata": {},
   "outputs": [],
   "source": []
  },
  {
   "cell_type": "code",
   "execution_count": 14,
   "metadata": {},
   "outputs": [],
   "source": []
  },
  {
   "cell_type": "code",
   "execution_count": 15,
   "metadata": {},
   "outputs": [],
   "source": []
  },
  {
   "cell_type": "code",
   "execution_count": 17,
   "metadata": {},
   "outputs": [
    {
     "data": {
      "text/plain": [
       "31"
      ]
     },
     "execution_count": 17,
     "metadata": {},
     "output_type": "execute_result"
    }
   ],
   "source": []
  },
  {
   "cell_type": "code",
   "execution_count": 18,
   "metadata": {},
   "outputs": [
    {
     "data": {
      "text/plain": [
       "'American Express Global Business Travel\\nData Scientist\\nGurgaon\\nActively Hiring\\n23d\\nOverview : The data science solutions engineer will be a member of the data analytics team and will lead… efforts around building big data, data science, data quality, and BI/MI/AI solutions. …An ideal candidate will be a The data science associate…'"
      ]
     },
     "execution_count": 18,
     "metadata": {},
     "output_type": "execute_result"
    }
   ],
   "source": []
  },
  {
   "cell_type": "code",
   "execution_count": 19,
   "metadata": {},
   "outputs": [],
   "source": []
  },
  {
   "cell_type": "code",
   "execution_count": 20,
   "metadata": {},
   "outputs": [],
   "source": []
  },
  {
   "cell_type": "code",
   "execution_count": 21,
   "metadata": {},
   "outputs": [],
   "source": []
  },
  {
   "cell_type": "code",
   "execution_count": 22,
   "metadata": {},
   "outputs": [],
   "source": []
  },
  {
   "cell_type": "code",
   "execution_count": 25,
   "metadata": {},
   "outputs": [],
   "source": []
  },
  {
   "cell_type": "code",
   "execution_count": null,
   "metadata": {},
   "outputs": [],
   "source": []
  }
 ],
 "metadata": {
  "kernelspec": {
   "display_name": "Python 3",
   "language": "python",
   "name": "python3"
  },
  "language_info": {
   "codemirror_mode": {
    "name": "ipython",
    "version": 3
   },
   "file_extension": ".py",
   "mimetype": "text/x-python",
   "name": "python",
   "nbconvert_exporter": "python",
   "pygments_lexer": "ipython3",
   "version": "3.7.6"
  }
 },
 "nbformat": 4,
 "nbformat_minor": 4
}
