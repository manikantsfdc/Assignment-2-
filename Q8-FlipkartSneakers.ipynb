{
 "cells": [
  {
   "cell_type": "code",
   "execution_count": null,
   "metadata": {},
   "outputs": [],
   "source": [
    "# Import all needed Packages\n",
    "import pandas as pd\n",
    "import re\n",
    "from selenium import webdriver \n",
    "from selenium.webdriver.common.keys import Keys\n",
    "# Make an Instance of chrome \n",
    "driver = webdriver.Chrome()\n",
    "# Main Url\n",
    "URL_node = \"https://www.flipkart.com/\"\n",
    "# Get Data from Url\n",
    "driver.get(URL_node)\n",
    "# Activate et sttrokes in Search\n",
    "elem = driver.find_element_by_name(\"q\")\n",
    "elem.clear()\n",
    "elem.send_keys(\"sneakers\")\n",
    "elem.send_keys(Keys.RETURN)\n",
    "\n",
    "# Target Url\n",
    "url = driver.current_url\n",
    "#Make a List for a elements\n",
    "list = []\n",
    "while len(list) < 100 :\n",
    "    driver.get(url)\n",
    "    #Scrape All elements under class \"_2LFGJH\"\n",
    "    eles = driver.find_elements_by_xpath('//div[@class=\"_2LFGJH\"]')\n",
    "    \n",
    "    # Clean our data and separate each job\n",
    "    for e in eles:\n",
    "        da = re.findall(\"(.+)\\D\",e.text)\n",
    "        if len(list) > 100:\n",
    "            break\n",
    "        list.append(da)\n",
    "        \n",
    "    #Button to load more data    \n",
    "    next = driver.find_element_by_xpath('//a[@class=\"_3fVaIS\"]')\n",
    "    link_next = next.get_attribute('href')\n",
    "    url = link_next\n",
    "    \n",
    "len(list)\n",
    "#Make a dataframe to import all data into\n",
    "df = pd.DataFrame(columns={\"Sneakers\"})\n",
    "df['Sneakers'] = list\n",
    "# Save the dataframe to Excel File\n",
    "df.to_csv(\"Q8.csv\")"
   ]
  }
 ],
 "metadata": {
  "kernelspec": {
   "display_name": "Python 3",
   "language": "python",
   "name": "python3"
  },
  "language_info": {
   "codemirror_mode": {
    "name": "ipython",
    "version": 3
   },
   "file_extension": ".py",
   "mimetype": "text/x-python",
   "name": "python",
   "nbconvert_exporter": "python",
   "pygments_lexer": "ipython3",
   "version": "3.7.6"
  }
 },
 "nbformat": 4,
 "nbformat_minor": 4
}
